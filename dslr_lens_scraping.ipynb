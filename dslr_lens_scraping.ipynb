{
 "cells": [
  {
   "cell_type": "code",
   "execution_count": 1,
   "metadata": {},
   "outputs": [],
   "source": [
    "import time\n",
    "from selenium import webdriver\n",
    "import urllib\n",
    "from urllib.request import Request,urlopen"
   ]
  },
  {
   "cell_type": "markdown",
   "metadata": {},
   "source": [
    "## Scraping \n",
    "#### https://in.canon/en\n",
    "Scraping all the Canon Lens present on gsmarena and storing them in Firebase database"
   ]
  },
  {
   "cell_type": "code",
   "execution_count": 2,
   "metadata": {},
   "outputs": [],
   "source": [
    "driver = webdriver.Chrome('chromedriver')\n",
    "driver.get('https://in.canon/en/consumer/products/search?category=photography&subCategory=ef-lenses')\n",
    "time.sleep(5)"
   ]
  },
  {
   "cell_type": "code",
   "execution_count": 3,
   "metadata": {},
   "outputs": [],
   "source": [
    "import requests\n",
    "from bs4 import BeautifulSoup\n",
    "import re"
   ]
  },
  {
   "cell_type": "code",
   "execution_count": 23,
   "metadata": {},
   "outputs": [],
   "source": [
    "data=BeautifulSoup(driver.page_source,'html.parser')"
   ]
  },
  {
   "cell_type": "code",
   "execution_count": 6,
   "metadata": {},
   "outputs": [],
   "source": [
    "all_lens_urls_list=[]\n",
    "lens_nm_list = []\n",
    "   \n",
    "for getdivtag in data.findAll('div', {'class': 'post-item'}):\n",
    "    for getimgtag in getdivtag.findAll('img',src=True):\n",
    "        all_lens_urls_list.append(getimgtag['src'])\n",
    "\n",
    "for gettitletag in data.findAll('h5',{'class': 'title'}):\n",
    "    for gettitle in gettitletag.findAll(['a']):\n",
    "        lens_nm_list.append(gettitle.text)\n"
   ]
  },
  {
   "cell_type": "code",
   "execution_count": 7,
   "metadata": {},
   "outputs": [
    {
     "data": {
      "text/plain": [
       "['\\n                                                    Extender EF 1.4xIII\\n                                                ',\n",
       " '\\n                                                    EF180mm f/3.5L Macro USM\\n                                                ',\n",
       " '\\n                                                    TS-E50mm f/2.8L Macro\\n                                                ',\n",
       " '\\n                                                    TS-E24mm f/3.5L II\\n                                                ',\n",
       " '\\n                                                    TS-E17mm f/4L\\n                                                ',\n",
       " '\\n                                                    RF85mm f/1.2L USM DS\\n                                                ',\n",
       " '\\n                                                    RF85mm f/1.2L USM\\n                                                ',\n",
       " '\\n                                                    RF70-200mm f/2.8L IS USM\\n                                                ',\n",
       " '\\n                                                    RF50mm f/1.2L USM\\n                                                ',\n",
       " '\\n                                                    RF35mm f/1.8 MACRO IS STM\\n                                                ',\n",
       " '\\n                                                    RF28-70mm f/2L USM\\n                                                ',\n",
       " '\\n                                                    RF24-70mm f/2.8L IS USM\\n                                                ',\n",
       " '\\n                                                    RF24-105mm f/4L IS USM\\n                                                ',\n",
       " '\\n                                                    RF15-35mm f/2.8L IS USM\\n                                                ',\n",
       " '\\n                                                    EF85mm f/1.2L II USM\\n                                                ',\n",
       " '\\n                                                    EF800mm f/5.6L IS USM\\n                                                ',\n",
       " '\\n                                                    EF8-15mm f/4L Fisheye USM\\n                                                ',\n",
       " '\\n                                                    EF75-300mm f/4-5.6 III USM\\n                                                ',\n",
       " '\\n                                                    EF70-300mm f/4-5.6L IS USM\\n                                                ',\n",
       " '\\n                                                    EF70-300mm f/4-5.6 IS II USM\\n                                                ',\n",
       " '\\n                                                    EF70-200mm f/4L USM\\n                                                ',\n",
       " '\\n                                                    EF70-200mm f/4L IS USM\\n                                                ',\n",
       " '\\n                                                    EF70-200mm f/2.8L IS III USM\\n                                                ',\n",
       " '\\n                                                    EF70-200mm f/2.8L IS II USM\\n                                                ',\n",
       " '\\n                                                    EF600mm f/4L IS III USM\\n                                                ',\n",
       " '\\n                                                    EF50mm f/1.4 USM\\n                                                ',\n",
       " '\\n                                                    EF500mm f/4L IS II USM\\n                                                ',\n",
       " '\\n                                                    EF40mm f/2.8 STM\\n                                                ',\n",
       " '\\n                                                    EF400mm f/5.6L USM\\n                                                ',\n",
       " '\\n                                                    EF400mm f/4 DO IS II USM\\n                                                ']"
      ]
     },
     "execution_count": 7,
     "metadata": {},
     "output_type": "execute_result"
    }
   ],
   "source": [
    "lens_nm_list\n",
    "    "
   ]
  },
  {
   "cell_type": "code",
   "execution_count": 8,
   "metadata": {
    "scrolled": true
   },
   "outputs": [
    {
     "data": {
      "text/plain": [
       "30"
      ]
     },
     "execution_count": 8,
     "metadata": {},
     "output_type": "execute_result"
    }
   ],
   "source": [
    "len(all_lens_urls_list)"
   ]
  },
  {
   "cell_type": "markdown",
   "metadata": {},
   "source": [
    "### Single Value Testing"
   ]
  },
  {
   "cell_type": "code",
   "execution_count": 9,
   "metadata": {},
   "outputs": [],
   "source": [
    "driver.get(all_lens_urls_list[0])\n",
    "time.sleep(10)"
   ]
  },
  {
   "cell_type": "code",
   "execution_count": 10,
   "metadata": {},
   "outputs": [
    {
     "data": {
      "text/plain": [
       "'ef-14xiii-b1.png'"
      ]
     },
     "execution_count": 10,
     "metadata": {},
     "output_type": "execute_result"
    }
   ],
   "source": [
    "img_nm = all_lens_urls_list[0].rsplit('/',1)[1].rsplit('.',1)\n",
    "img_name = img_nm[0] + '.png'\n",
    "img_name"
   ]
  },
  {
   "cell_type": "code",
   "execution_count": 26,
   "metadata": {},
   "outputs": [
    {
     "data": {
      "text/plain": [
       "('ef-14xiii-b1.png', <http.client.HTTPMessage at 0xe9d050>)"
      ]
     },
     "execution_count": 26,
     "metadata": {},
     "output_type": "execute_result"
    }
   ],
   "source": [
    "urllib.request.urlretrieve(all_lens_urls_list[0], img_name)"
   ]
  },
  {
   "cell_type": "code",
   "execution_count": 42,
   "metadata": {},
   "outputs": [],
   "source": [
    "for i in all_lens_urls_list:\n",
    "    driver.get(i)\n",
    "    time.sleep(10)\n",
    "    img_nm = i.rsplit('/',1)[1].rsplit('.',1)\n",
    "    img_name = img_nm[0] + '.png'\n",
    "    urllib.request.urlretrieve(i, img_name)\n",
    "    "
   ]
  },
  {
   "cell_type": "code",
   "execution_count": 43,
   "metadata": {},
   "outputs": [
    {
     "data": {
      "text/plain": [
       "'ef400mm-f4-do-is-ii-usm-b1.png'"
      ]
     },
     "execution_count": 43,
     "metadata": {},
     "output_type": "execute_result"
    }
   ],
   "source": [
    "img_name"
   ]
  },
  {
   "cell_type": "markdown",
   "metadata": {},
   "source": [
    "### END"
   ]
  },
  {
   "cell_type": "markdown",
   "metadata": {},
   "source": [
    "### Full Data Scrapping"
   ]
  },
  {
   "cell_type": "code",
   "execution_count": 14,
   "metadata": {},
   "outputs": [],
   "source": [
    "temp_lens_list = []\n",
    "new_lens_list = []\n",
    "for i in range(0,len(lens_nm_list)):\n",
    "    temp_lens_list.append(lens_nm_list[i].split('\\n'))\n",
    "    \n",
    "for i in range(0,len(temp_lens_list)):\n",
    "    for j in range(0,3):\n",
    "        if(temp_lens_list[i][j] != ''):\n",
    "            new_lens_list.append(temp_lens_list[i][j].strip())"
   ]
  },
  {
   "cell_type": "code",
   "execution_count": 15,
   "metadata": {},
   "outputs": [],
   "source": [
    "final_lens_list =[]\n",
    "for i in range(0,len(new_lens_list)):\n",
    "    if(new_lens_list[i] != ''):\n",
    "        final_lens_list.append(new_lens_list[i])"
   ]
  },
  {
   "cell_type": "code",
   "execution_count": 16,
   "metadata": {},
   "outputs": [
    {
     "data": {
      "text/plain": [
       "['Extender EF 1.4xIII',\n",
       " 'EF180mm f/3.5L Macro USM',\n",
       " 'TS-E50mm f/2.8L Macro',\n",
       " 'TS-E24mm f/3.5L II',\n",
       " 'TS-E17mm f/4L',\n",
       " 'RF85mm f/1.2L USM DS',\n",
       " 'RF85mm f/1.2L USM',\n",
       " 'RF70-200mm f/2.8L IS USM',\n",
       " 'RF50mm f/1.2L USM',\n",
       " 'RF35mm f/1.8 MACRO IS STM',\n",
       " 'RF28-70mm f/2L USM',\n",
       " 'RF24-70mm f/2.8L IS USM',\n",
       " 'RF24-105mm f/4L IS USM',\n",
       " 'RF15-35mm f/2.8L IS USM',\n",
       " 'EF85mm f/1.2L II USM',\n",
       " 'EF800mm f/5.6L IS USM',\n",
       " 'EF8-15mm f/4L Fisheye USM',\n",
       " 'EF75-300mm f/4-5.6 III USM',\n",
       " 'EF70-300mm f/4-5.6L IS USM',\n",
       " 'EF70-300mm f/4-5.6 IS II USM',\n",
       " 'EF70-200mm f/4L USM',\n",
       " 'EF70-200mm f/4L IS USM',\n",
       " 'EF70-200mm f/2.8L IS III USM',\n",
       " 'EF70-200mm f/2.8L IS II USM',\n",
       " 'EF600mm f/4L IS III USM',\n",
       " 'EF50mm f/1.4 USM',\n",
       " 'EF500mm f/4L IS II USM',\n",
       " 'EF40mm f/2.8 STM',\n",
       " 'EF400mm f/5.6L USM',\n",
       " 'EF400mm f/4 DO IS II USM']"
      ]
     },
     "execution_count": 16,
     "metadata": {},
     "output_type": "execute_result"
    }
   ],
   "source": [
    "final_lens_list"
   ]
  },
  {
   "cell_type": "code",
   "execution_count": 17,
   "metadata": {},
   "outputs": [
    {
     "data": {
      "text/plain": [
       "'Extender EF 1.4xIII'"
      ]
     },
     "execution_count": 17,
     "metadata": {},
     "output_type": "execute_result"
    }
   ],
   "source": [
    "title = final_lens_list[0]\n",
    "title"
   ]
  },
  {
   "cell_type": "code",
   "execution_count": 18,
   "metadata": {},
   "outputs": [
    {
     "data": {
      "text/plain": [
       "'extender-ef-1.4xiii'"
      ]
     },
     "execution_count": 18,
     "metadata": {},
     "output_type": "execute_result"
    }
   ],
   "source": [
    "key = title.lower().replace(' ','-')\n",
    "key"
   ]
  },
  {
   "cell_type": "markdown",
   "metadata": {},
   "source": [
    "### Firebase "
   ]
  },
  {
   "cell_type": "code",
   "execution_count": 11,
   "metadata": {},
   "outputs": [
    {
     "data": {
      "text/plain": [
       "<firebase_admin.App at 0x167069d6ec8>"
      ]
     },
     "execution_count": 11,
     "metadata": {},
     "output_type": "execute_result"
    }
   ],
   "source": [
    "import firebase_admin\n",
    "from firebase_admin import credentials\n",
    "from firebase_admin import db\n",
    "\n",
    "# Fetch the service account key JSON file contents\n",
    "cred = credentials.Certificate('serviceAccountKey.json')\n",
    "\n",
    "# Initialize the app with a service account, granting admin privileges\n",
    "firebase_admin.initialize_app(cred, {\n",
    "    'databaseURL': 'https://personal-portfolio-12c66.firebaseio.com/'\n",
    "})"
   ]
  },
  {
   "cell_type": "code",
   "execution_count": 12,
   "metadata": {},
   "outputs": [],
   "source": [
    "# As an admin, the app has access to read and write all data, regradless of Security Rules\n",
    "ref = db.reference('lens/canon/products')"
   ]
  },
  {
   "cell_type": "markdown",
   "metadata": {},
   "source": [
    "### Final code"
   ]
  },
  {
   "cell_type": "code",
   "execution_count": 22,
   "metadata": {},
   "outputs": [
    {
     "name": "stdout",
     "output_type": "stream",
     "text": [
      "Extender EF 1.4xIII\n",
      "EF180mm f/3.5L Macro USM\n",
      "TS-E50mm f/2.8L Macro\n",
      "TS-E24mm f/3.5L II\n",
      "TS-E17mm f/4L\n",
      "RF85mm f/1.2L USM DS\n",
      "RF85mm f/1.2L USM\n",
      "RF70-200mm f/2.8L IS USM\n",
      "RF50mm f/1.2L USM\n",
      "RF35mm f/1.8 MACRO IS STM\n",
      "RF28-70mm f/2L USM\n",
      "RF24-70mm f/2.8L IS USM\n",
      "RF24-105mm f/4L IS USM\n",
      "RF15-35mm f/2.8L IS USM\n",
      "EF85mm f/1.2L II USM\n",
      "EF800mm f/5.6L IS USM\n",
      "EF8-15mm f/4L Fisheye USM\n",
      "EF75-300mm f/4-5.6 III USM\n",
      "EF70-300mm f/4-5.6L IS USM\n",
      "EF70-300mm f/4-5.6 IS II USM\n",
      "EF70-200mm f/4L USM\n",
      "EF70-200mm f/4L IS USM\n",
      "EF70-200mm f/2.8L IS III USM\n",
      "EF70-200mm f/2.8L IS II USM\n",
      "EF600mm f/4L IS III USM\n",
      "EF50mm f/1.4 USM\n",
      "EF500mm f/4L IS II USM\n",
      "EF40mm f/2.8 STM\n",
      "EF400mm f/5.6L USM\n",
      "EF400mm f/4 DO IS II USM\n"
     ]
    }
   ],
   "source": [
    "for i in range(0,len(all_lens_urls_list)):\n",
    "    driver.get(all_lens_urls_list[i])\n",
    "    time.sleep(10)\n",
    "    \n",
    "    title = final_lens_list[i]\n",
    "    #title\n",
    "    print(title)\n",
    "    \n",
    "    key = title.lower().replace(' ','-').replace('.','_').replace('/','')\n",
    "    #key \n",
    "    \n",
    "    img_name = final_lens_list[i].replace(' ','') + '.png'\n",
    "    #img_name\n",
    "    \n",
    "    time.sleep(10)\n",
    "    \n",
    "    img_nm = all_lens_urls_list[i].rsplit('/',1)[1].rsplit('.',1)\n",
    "    img_name = img_nm[0] + '.png'\n",
    "    urllib.request.urlretrieve(all_lens_urls_list[i], img_name)\n",
    "\n",
    "    ref.child(key).set({\n",
    "        'p_img': \"lenses/\"+img_name,\n",
    "        'p_name': title,\n",
    "    })\n",
    "    "
   ]
  },
  {
   "cell_type": "code",
   "execution_count": null,
   "metadata": {},
   "outputs": [],
   "source": []
  }
 ],
 "metadata": {
  "kernelspec": {
   "display_name": "Python 3",
   "language": "python",
   "name": "python3"
  },
  "language_info": {
   "codemirror_mode": {
    "name": "ipython",
    "version": 3
   },
   "file_extension": ".py",
   "mimetype": "text/x-python",
   "name": "python",
   "nbconvert_exporter": "python",
   "pygments_lexer": "ipython3",
   "version": "3.7.4"
  }
 },
 "nbformat": 4,
 "nbformat_minor": 2
}
