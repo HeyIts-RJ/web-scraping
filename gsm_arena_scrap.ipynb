{
 "cells": [
  {
   "cell_type": "code",
   "execution_count": 5,
   "metadata": {},
   "outputs": [],
   "source": [
    "import time\n",
    "from selenium import webdriver\n",
    "import urllib\n",
    "from urllib.request import Request,urlopen"
   ]
  },
  {
   "cell_type": "markdown",
   "metadata": {},
   "source": [
    "## Scraping \n",
    "#### https://www.gsmarena.com/\n",
    "Scraping all the Samsung tabs present on gsmarena and storing them in Firebase database"
   ]
  },
  {
   "cell_type": "code",
   "execution_count": 24,
   "metadata": {},
   "outputs": [],
   "source": [
    "driver = webdriver.Chrome('chromedriver')\n",
    "driver.get('https://www.gsmarena.com/results.php3?sQuickSearch=yes&sName=samsung%20tab')\n",
    "time.sleep(5)"
   ]
  },
  {
   "cell_type": "code",
   "execution_count": 25,
   "metadata": {},
   "outputs": [],
   "source": [
    "import requests\n",
    "from bs4 import BeautifulSoup\n",
    "import re"
   ]
  },
  {
   "cell_type": "code",
   "execution_count": 26,
   "metadata": {
    "scrolled": false
   },
   "outputs": [],
   "source": [
    "data=BeautifulSoup(driver.page_source,'html.parser')"
   ]
  },
  {
   "cell_type": "code",
   "execution_count": 27,
   "metadata": {},
   "outputs": [],
   "source": [
    "all_tab_urls_list=[]\n",
    "\n",
    "for getdivtag in data.findAll('div',{'class': 'makers'}):\n",
    "    for gethref in getdivtag.findAll(['a']):\n",
    "        all_tab_urls_list.append('https://www.gsmarena.com/' + gethref['href'])\n"
   ]
  },
  {
   "cell_type": "code",
   "execution_count": 28,
   "metadata": {},
   "outputs": [
    {
     "data": {
      "text/plain": [
       "['https://www.gsmarena.com/samsung_galaxy_tab_s6_lite-10158.php',\n",
       " 'https://www.gsmarena.com/samsung_galaxy_tab_a_10_1_(2019)-9582.php',\n",
       " 'https://www.gsmarena.com/samsung_galaxy_tab_s6-9781.php',\n",
       " 'https://www.gsmarena.com/samsung_galaxy_tab_a_8_0_(2019)-9760.php',\n",
       " 'https://www.gsmarena.com/samsung_galaxy_tab_s5e-9581.php',\n",
       " 'https://www.gsmarena.com/samsung_galaxy_tab_a_10_1_(2016)-8090.php',\n",
       " 'https://www.gsmarena.com/samsung_galaxy_tab_s6_5g-10004.php',\n",
       " 'https://www.gsmarena.com/samsung_galaxy_tab_a_7_0_(2016)-7880.php',\n",
       " 'https://www.gsmarena.com/samsung_galaxy_tab_e_9_6-7295.php',\n",
       " 'https://www.gsmarena.com/samsung_galaxy_tab_a_8_0_&_s_pen_(2019)-9651.php',\n",
       " 'https://www.gsmarena.com/samsung_galaxy_tab_3_7_0-5422.php',\n",
       " 'https://www.gsmarena.com/samsung_galaxy_tab_s4_10_5-9262.php',\n",
       " 'https://www.gsmarena.com/samsung_galaxy_tab_a_10_5-9263.php',\n",
       " 'https://www.gsmarena.com/samsung_galaxy_tab_4_7_0-6251.php',\n",
       " 'https://www.gsmarena.com/samsung_galaxy_tab_s2_9_7-7438.php',\n",
       " 'https://www.gsmarena.com/samsung_galaxy_tab_s2_8_0-7439.php',\n",
       " 'https://www.gsmarena.com/samsung_galaxy_tab_2_10_1_p5100-4567.php',\n",
       " 'https://www.gsmarena.com/samsung_galaxy_tab_2_7_0_p3100-4543.php',\n",
       " 'https://www.gsmarena.com/samsung_galaxy_tab_3_v-7134.php',\n",
       " 'https://www.gsmarena.com/samsung_galaxy_tab_s3_9_7-8554.php',\n",
       " 'https://www.gsmarena.com/samsung_galaxy_tab_s_8_4_lte-6435.php',\n",
       " 'https://www.gsmarena.com/samsung_galaxy_tab_s_10_5_lte-6235.php',\n",
       " 'https://www.gsmarena.com/samsung_galaxy_tab_4_10_1-6247.php',\n",
       " 'https://www.gsmarena.com/samsung_galaxy_tab_a_8_0_(2015)-7121.php',\n",
       " 'https://www.gsmarena.com/samsung_galaxy_tab_a_9_7-7122.php',\n",
       " 'https://www.gsmarena.com/samsung_galaxy_tab_active_pro-9850.php',\n",
       " 'https://www.gsmarena.com/samsung_galaxy_tab_3_lite_7_0-5969.php',\n",
       " 'https://www.gsmarena.com/samsung_galaxy_tab_s_10_5-6438.php',\n",
       " 'https://www.gsmarena.com/samsung_galaxy_tab_a_8_0_(2017)-8725.php',\n",
       " 'https://www.gsmarena.com/samsung_galaxy_tab_10_1_p7510-3894.php',\n",
       " 'https://www.gsmarena.com/samsung_galaxy_tab_3_8_0-5456.php',\n",
       " 'https://www.gsmarena.com/samsung_galaxy_tab_a_8_0_(2018)-9665.php',\n",
       " 'https://www.gsmarena.com/samsung_galaxy_tab_e_8_0-7879.php',\n",
       " 'https://www.gsmarena.com/samsung_p1000_galaxy_tab-3370.php',\n",
       " 'https://www.gsmarena.com/samsung_galaxy_tab_s_8_4-6439.php',\n",
       " 'https://www.gsmarena.com/samsung_p7500_galaxy_tab_10_1_3g-3892.php',\n",
       " 'https://www.gsmarena.com/samsung_galaxy_tab_3_10_1_p5220-5491.php',\n",
       " 'https://www.gsmarena.com/samsung_galaxy_tab_2_10_1_p5110-4669.php',\n",
       " 'https://www.gsmarena.com/samsung_galaxy_tab_active_2-8897.php',\n",
       " 'https://www.gsmarena.com/samsung_galaxy_tab_3_10_1_p5210-5478.php',\n",
       " 'https://www.gsmarena.com/samsung_galaxy_tab_4_7_0_3g-6250.php',\n",
       " 'https://www.gsmarena.com/samsung_galaxy_tab_advanced2-9264.php',\n",
       " 'https://www.gsmarena.com/samsung_galaxy_tab_pro_8_4-5946.php',\n",
       " 'https://www.gsmarena.com/samsung_galaxy_tab_4_8_0_lte-6240.php',\n",
       " 'https://www.gsmarena.com/samsung_galaxy_tab_2_7_0_p3110-4671.php',\n",
       " 'https://www.gsmarena.com/samsung_p6200_galaxy_tab_7_0_plus-4208.php',\n",
       " 'https://www.gsmarena.com/samsung_galaxy_tab_4_10_1_lte-6239.php',\n",
       " 'https://www.gsmarena.com/samsung_galaxy_tab_pro_10_1-5940.php',\n",
       " 'https://www.gsmarena.com/samsung_galaxy_tab_3_10_1_p5200-5490.php',\n",
       " 'https://www.gsmarena.com/samsung_galaxy_tab_3_lite_7_0_ve-7110.php',\n",
       " 'https://www.gsmarena.com/samsung_galaxy_tab_j-8227.php',\n",
       " 'https://www.gsmarena.com/samsung_galaxy_tab_3_7_0_wifi-5423.php',\n",
       " 'https://www.gsmarena.com/samsung_galaxy_tab_4_8_0-6249.php',\n",
       " 'https://www.gsmarena.com/samsung_galaxy_tab_8_9_p7300-3891.php',\n",
       " 'https://www.gsmarena.com/samsung_galaxy_tab_4_7_0_lte-6241.php',\n",
       " 'https://www.gsmarena.com/samsung_galaxy_tab_3_lite_7_0_3g-5975.php',\n",
       " 'https://www.gsmarena.com/samsung_p6800_galaxy_tab_7_7-4136.php',\n",
       " 'https://www.gsmarena.com/samsung_galaxy_tab_pro_10_1_lte-5941.php',\n",
       " 'https://www.gsmarena.com/samsung_galaxy_tab_a_8_0_&_s_pen_(2015)-8883.php',\n",
       " 'https://www.gsmarena.com/samsung_galaxy_tab_4_8_0_3g-6248.php',\n",
       " 'https://www.gsmarena.com/samsung_galaxy_tab_4_10_1_3g-6246.php',\n",
       " 'https://www.gsmarena.com/samsung_galaxy_tab_a_9_7_&_s_pen-7443.php',\n",
       " 'https://www.gsmarena.com/samsung_galaxy_tab_4_10_1_(2015)-6980.php',\n",
       " 'https://www.gsmarena.com/samsung_galaxy_tab_active-6659.php',\n",
       " 'https://www.gsmarena.com/samsung_galaxy_tab_pro_12_2-6212.php',\n",
       " 'https://www.gsmarena.com/samsung_galaxy_tab_pro_8_4_3g_lte-6049.php',\n",
       " 'https://www.gsmarena.com/samsung_galaxy_tab_pro_12_2_3g-5942.php',\n",
       " 'https://www.gsmarena.com/samsung_galaxy_tab_10_1_lte_i905-4069.php',\n",
       " 'https://www.gsmarena.com/samsung_galaxy_tab_active_lte-6658.php',\n",
       " 'https://www.gsmarena.com/samsung_p1010_galaxy_tab_wi_fi-3919.php']"
      ]
     },
     "execution_count": 28,
     "metadata": {},
     "output_type": "execute_result"
    }
   ],
   "source": [
    "all_tab_urls_list"
   ]
  },
  {
   "cell_type": "code",
   "execution_count": 29,
   "metadata": {},
   "outputs": [
    {
     "data": {
      "text/plain": [
       "70"
      ]
     },
     "execution_count": 29,
     "metadata": {},
     "output_type": "execute_result"
    }
   ],
   "source": [
    "len(all_tab_urls_list)"
   ]
  },
  {
   "cell_type": "markdown",
   "metadata": {},
   "source": [
    "### Single Device Data Testing"
   ]
  },
  {
   "cell_type": "code",
   "execution_count": 30,
   "metadata": {},
   "outputs": [],
   "source": [
    "driver.get(all_tab_urls_list[0])\n",
    "time.sleep(10)"
   ]
  },
  {
   "cell_type": "code",
   "execution_count": 31,
   "metadata": {},
   "outputs": [],
   "source": [
    "tab_data=BeautifulSoup(driver.page_source,'html.parser')"
   ]
  },
  {
   "cell_type": "code",
   "execution_count": 32,
   "metadata": {},
   "outputs": [
    {
     "data": {
      "text/plain": [
       "'Samsung Galaxy Tab S6 Lite'"
      ]
     },
     "execution_count": 32,
     "metadata": {},
     "output_type": "execute_result"
    }
   ],
   "source": [
    "title=tab_data.find(class_ =\"specs-phone-name-title\").string\n",
    "title"
   ]
  },
  {
   "cell_type": "code",
   "execution_count": 33,
   "metadata": {},
   "outputs": [
    {
     "data": {
      "text/plain": [
       "'galaxy-tab-s6-lite'"
      ]
     },
     "execution_count": 33,
     "metadata": {},
     "output_type": "execute_result"
    }
   ],
   "source": [
    "key=title[8:].replace(' ', '-').replace('(', '').replace(')', '').replace('.', '_').lower()\n",
    "key"
   ]
  },
  {
   "cell_type": "code",
   "execution_count": 34,
   "metadata": {},
   "outputs": [],
   "source": [
    "val = tab_data.find_all(\"span\",attrs= {\"data-spec\":True})\n"
   ]
  },
  {
   "cell_type": "code",
   "execution_count": 35,
   "metadata": {},
   "outputs": [
    {
     "data": {
      "text/plain": [
       "'8 MP'"
      ]
     },
     "execution_count": 35,
     "metadata": {},
     "output_type": "execute_result"
    }
   ],
   "source": [
    "cam = tab_data.find_all(\"span\",attrs={\"data-spec\": lambda x: x == \"camerapixels-hl\"})[0].string + ' MP'\n",
    "cam"
   ]
  },
  {
   "cell_type": "code",
   "execution_count": 36,
   "metadata": {},
   "outputs": [
    {
     "data": {
      "text/plain": [
       "'64GB/128GB'"
      ]
     },
     "execution_count": 36,
     "metadata": {},
     "output_type": "execute_result"
    }
   ],
   "source": [
    "storage = tab_data.find_all(\"span\",attrs={\"data-spec\": lambda x: x == \"storage-hl\"})[0].string.split()[0]\n",
    "storage"
   ]
  },
  {
   "cell_type": "code",
   "execution_count": 37,
   "metadata": {},
   "outputs": [
    {
     "data": {
      "text/plain": [
       "'4'"
      ]
     },
     "execution_count": 37,
     "metadata": {},
     "output_type": "execute_result"
    }
   ],
   "source": [
    "ram = tab_data.find_all(\"span\",attrs={\"data-spec\": lambda x: x == \"ramsize-hl\"})[0].string\n",
    "ram"
   ]
  },
  {
   "cell_type": "code",
   "execution_count": 38,
   "metadata": {},
   "outputs": [
    {
     "data": {
      "text/plain": [
       "'Exynos 9611'"
      ]
     },
     "execution_count": 38,
     "metadata": {},
     "output_type": "execute_result"
    }
   ],
   "source": [
    "chipset = tab_data.find_all(\"div\",attrs={\"data-spec\": lambda x: x == \"chipset-hl\"})[0].string\n",
    "chipset"
   ]
  },
  {
   "cell_type": "code",
   "execution_count": 39,
   "metadata": {},
   "outputs": [
    {
     "data": {
      "text/plain": [
       "'https://fdn2.gsmarena.com/vv/bigpic/galaxy-tab-s6-lite.jpg'"
      ]
     },
     "execution_count": 39,
     "metadata": {},
     "output_type": "execute_result"
    }
   ],
   "source": [
    "img=tab_data.find(class_ =\"specs-photo-main\").img['src']\n",
    "img"
   ]
  },
  {
   "cell_type": "code",
   "execution_count": 40,
   "metadata": {},
   "outputs": [
    {
     "data": {
      "text/plain": [
       "'galaxy-tab-s6-lite.png'"
      ]
     },
     "execution_count": 40,
     "metadata": {},
     "output_type": "execute_result"
    }
   ],
   "source": [
    "img_name=title[8:].replace(' ', '-').replace('.', '_').strip().lower() +'.png'\n",
    "img_name"
   ]
  },
  {
   "cell_type": "code",
   "execution_count": 41,
   "metadata": {},
   "outputs": [],
   "source": [
    "opener = urllib.request.URLopener()\n",
    "opener.addheader('User-Agent', 'whatever')\n",
    "filename, headers = opener.retrieve(img, img_name)"
   ]
  },
  {
   "cell_type": "markdown",
   "metadata": {},
   "source": [
    "## All Values"
   ]
  },
  {
   "cell_type": "code",
   "execution_count": 14,
   "metadata": {},
   "outputs": [
    {
     "data": {
      "text/plain": [
       "<firebase_admin.App at 0x27155a12048>"
      ]
     },
     "execution_count": 14,
     "metadata": {},
     "output_type": "execute_result"
    }
   ],
   "source": [
    "import firebase_admin\n",
    "from firebase_admin import credentials\n",
    "from firebase_admin import db\n",
    "\n",
    "# Fetch the service account key JSON file contents\n",
    "cred = credentials.Certificate('serviceAccountKey.json')\n",
    "\n",
    "# Initialize the app with a service account, granting admin privileges\n",
    "firebase_admin.initialize_app(cred, {\n",
    "    'databaseURL': 'https://personal-portfolio-12c66.firebaseio.com/'\n",
    "})"
   ]
  },
  {
   "cell_type": "code",
   "execution_count": 15,
   "metadata": {},
   "outputs": [],
   "source": [
    "# As an admin, the app has access to read and write all data, regradless of Security Rules\n",
    "ref = db.reference('tablets/samsung/products')"
   ]
  },
  {
   "cell_type": "code",
   "execution_count": 17,
   "metadata": {},
   "outputs": [
    {
     "name": "stdout",
     "output_type": "stream",
     "text": [
      "https://www.gsmarena.com/samsung_galaxy_tab_s6_lite-10158.php\n",
      "https://www.gsmarena.com/samsung_galaxy_tab_a_10_1_(2019)-9582.php\n",
      "https://www.gsmarena.com/samsung_galaxy_tab_s6-9781.php\n",
      "https://www.gsmarena.com/samsung_galaxy_tab_a_8_0_(2019)-9760.php\n",
      "https://www.gsmarena.com/samsung_galaxy_tab_s5e-9581.php\n",
      "https://www.gsmarena.com/samsung_galaxy_tab_a_10_1_(2016)-8090.php\n",
      "https://www.gsmarena.com/samsung_galaxy_tab_s6_5g-10004.php\n",
      "https://www.gsmarena.com/samsung_galaxy_tab_a_7_0_(2016)-7880.php\n",
      "https://www.gsmarena.com/samsung_galaxy_tab_e_9_6-7295.php\n",
      "https://www.gsmarena.com/samsung_galaxy_tab_a_8_0_&_s_pen_(2019)-9651.php\n",
      "https://www.gsmarena.com/samsung_galaxy_tab_3_7_0-5422.php\n",
      "https://www.gsmarena.com/samsung_galaxy_tab_s4_10_5-9262.php\n",
      "https://www.gsmarena.com/samsung_galaxy_tab_a_10_5-9263.php\n",
      "https://www.gsmarena.com/samsung_galaxy_tab_4_7_0-6251.php\n",
      "https://www.gsmarena.com/samsung_galaxy_tab_s2_9_7-7438.php\n",
      "https://www.gsmarena.com/samsung_galaxy_tab_s2_8_0-7439.php\n",
      "https://www.gsmarena.com/samsung_galaxy_tab_2_10_1_p5100-4567.php\n",
      "https://www.gsmarena.com/samsung_galaxy_tab_2_7_0_p3100-4543.php\n",
      "https://www.gsmarena.com/samsung_galaxy_tab_3_v-7134.php\n",
      "https://www.gsmarena.com/samsung_galaxy_tab_s3_9_7-8554.php\n",
      "https://www.gsmarena.com/samsung_galaxy_tab_s_8_4_lte-6435.php\n",
      "https://www.gsmarena.com/samsung_galaxy_tab_s_10_5_lte-6235.php\n",
      "https://www.gsmarena.com/samsung_galaxy_tab_4_10_1-6247.php\n",
      "https://www.gsmarena.com/samsung_galaxy_tab_a_8_0_(2015)-7121.php\n",
      "https://www.gsmarena.com/samsung_galaxy_tab_a_9_7-7122.php\n",
      "https://www.gsmarena.com/samsung_galaxy_tab_active_pro-9850.php\n",
      "https://www.gsmarena.com/samsung_galaxy_tab_3_lite_7_0-5969.php\n",
      "https://www.gsmarena.com/samsung_galaxy_tab_s_10_5-6438.php\n",
      "https://www.gsmarena.com/samsung_galaxy_tab_a_8_0_(2017)-8725.php\n",
      "https://www.gsmarena.com/samsung_galaxy_tab_10_1_p7510-3894.php\n",
      "https://www.gsmarena.com/samsung_galaxy_tab_3_8_0-5456.php\n",
      "https://www.gsmarena.com/samsung_galaxy_tab_a_8_0_(2018)-9665.php\n",
      "https://www.gsmarena.com/samsung_galaxy_tab_e_8_0-7879.php\n",
      "https://www.gsmarena.com/samsung_p1000_galaxy_tab-3370.php\n",
      "https://www.gsmarena.com/samsung_p7500_galaxy_tab_10_1_3g-3892.php\n",
      "https://www.gsmarena.com/samsung_galaxy_tab_s_8_4-6439.php\n",
      "https://www.gsmarena.com/samsung_galaxy_tab_3_10_1_p5220-5491.php\n",
      "https://www.gsmarena.com/samsung_galaxy_tab_2_10_1_p5110-4669.php\n",
      "https://www.gsmarena.com/samsung_galaxy_tab_active_2-8897.php\n",
      "https://www.gsmarena.com/samsung_galaxy_tab_3_10_1_p5210-5478.php\n",
      "https://www.gsmarena.com/samsung_galaxy_tab_4_7_0_3g-6250.php\n",
      "https://www.gsmarena.com/samsung_galaxy_tab_advanced2-9264.php\n",
      "https://www.gsmarena.com/samsung_galaxy_tab_pro_8_4-5946.php\n",
      "https://www.gsmarena.com/samsung_galaxy_tab_4_8_0_lte-6240.php\n",
      "https://www.gsmarena.com/samsung_galaxy_tab_2_7_0_p3110-4671.php\n",
      "https://www.gsmarena.com/samsung_p6200_galaxy_tab_7_0_plus-4208.php\n",
      "https://www.gsmarena.com/samsung_galaxy_tab_4_10_1_lte-6239.php\n",
      "https://www.gsmarena.com/samsung_galaxy_tab_pro_10_1-5940.php\n",
      "https://www.gsmarena.com/samsung_galaxy_tab_3_10_1_p5200-5490.php\n",
      "https://www.gsmarena.com/samsung_galaxy_tab_3_lite_7_0_ve-7110.php\n",
      "https://www.gsmarena.com/samsung_galaxy_tab_j-8227.php\n",
      "https://www.gsmarena.com/samsung_galaxy_tab_3_7_0_wifi-5423.php\n",
      "https://www.gsmarena.com/samsung_galaxy_tab_4_8_0-6249.php\n",
      "https://www.gsmarena.com/samsung_galaxy_tab_8_9_p7300-3891.php\n",
      "https://www.gsmarena.com/samsung_galaxy_tab_4_7_0_lte-6241.php\n",
      "https://www.gsmarena.com/samsung_galaxy_tab_3_lite_7_0_3g-5975.php\n",
      "https://www.gsmarena.com/samsung_p6800_galaxy_tab_7_7-4136.php\n",
      "https://www.gsmarena.com/samsung_galaxy_tab_a_8_0_&_s_pen_(2015)-8883.php\n",
      "https://www.gsmarena.com/samsung_galaxy_tab_pro_10_1_lte-5941.php\n",
      "https://www.gsmarena.com/samsung_galaxy_tab_4_8_0_3g-6248.php\n",
      "https://www.gsmarena.com/samsung_galaxy_tab_4_10_1_3g-6246.php\n",
      "https://www.gsmarena.com/samsung_galaxy_tab_a_9_7_&_s_pen-7443.php\n",
      "https://www.gsmarena.com/samsung_galaxy_tab_4_10_1_(2015)-6980.php\n",
      "https://www.gsmarena.com/samsung_galaxy_tab_active-6659.php\n",
      "https://www.gsmarena.com/samsung_galaxy_tab_pro_12_2-6212.php\n",
      "https://www.gsmarena.com/samsung_galaxy_tab_pro_8_4_3g_lte-6049.php\n"
     ]
    }
   ],
   "source": [
    "## Main Loop\n",
    "p=0\n",
    "for i in all_tab_urls_list:\n",
    "    print(i)\n",
    "    p=p+1\n",
    "    driver.get(i)\n",
    "    time.sleep(10)\n",
    "    \n",
    "    tab_data = BeautifulSoup(driver.page_source,'html.parser')\n",
    "    \n",
    "    title = tab_data.find(class_ =\"specs-phone-name-title\").string\n",
    "    # title\n",
    "    \n",
    "    key = title[8:].replace(' ', '-').replace('(', '').replace(')', '').replace('.', '_').lower()\n",
    "    # key\n",
    "    \n",
    "    camera = tab_data.find_all(\"span\",attrs={\"data-spec\": lambda x: x == \"camerapixels-hl\"})[0].string + ' MP'\n",
    "    # camera\n",
    "\n",
    "    storage = tab_data.find_all(\"span\",attrs={\"data-spec\": lambda x: x == \"storage-hl\"})[0].string.split()[0]\n",
    "    # storage\n",
    "    \n",
    "    ram = tab_data.find_all(\"span\",attrs={\"data-spec\": lambda x: x == \"ramsize-hl\"})[0].string\n",
    "    #ram\n",
    "    \n",
    "    chipset = tab_data.find_all(\"div\",attrs={\"data-spec\": lambda x: x == \"chipset-hl\"})[0].string\n",
    "    # chipset\n",
    "    \n",
    "    img = tab_data.find(class_ =\"specs-photo-main\").img['src']\n",
    "    # img\n",
    "    img_nm = title[8:].replace(' ', '-').replace('.', '_').strip().lower() +'.png'\n",
    "    # img_nm\n",
    "    \n",
    "    time.sleep(10)\n",
    "\n",
    "    opener = urllib.request.URLopener()\n",
    "    opener.addheader('User-Agent', 'whatever')\n",
    "    filename, headers = opener.retrieve(img, img_nm)\n",
    "    \n",
    "    image_path=\"tab/\"+img_nm\n",
    "    #image_path\n",
    "\n",
    "    ref.child(key).set({\n",
    "        'p_img': image_path,\n",
    "        'p_name': title,\n",
    "        'priority': p,\n",
    "        'specification':{\n",
    "        'camera':camera,\n",
    "        'chipset':chipset,\n",
    "        'storage':storage,\n",
    "        'ram':ram\n",
    "    }\n",
    "    \n",
    "    })\n"
   ]
  },
  {
   "cell_type": "code",
   "execution_count": null,
   "metadata": {},
   "outputs": [],
   "source": []
  }
 ],
 "metadata": {
  "kernelspec": {
   "display_name": "Python 3",
   "language": "python",
   "name": "python3"
  },
  "language_info": {
   "codemirror_mode": {
    "name": "ipython",
    "version": 3
   },
   "file_extension": ".py",
   "mimetype": "text/x-python",
   "name": "python",
   "nbconvert_exporter": "python",
   "pygments_lexer": "ipython3",
   "version": "3.7.4"
  }
 },
 "nbformat": 4,
 "nbformat_minor": 2
}
